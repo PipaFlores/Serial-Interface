{
 "cells": [
  {
   "cell_type": "code",
   "execution_count": 24,
   "metadata": {},
   "outputs": [],
   "source": [
    "import serial\n",
    "import time\n",
    "\n",
    "# make the cells output all the outputs\n",
    "from IPython.core.interactiveshell import InteractiveShell\n",
    "InteractiveShell.ast_node_interactivity = \"all\"\n",
    "\n"
   ]
  },
  {
   "cell_type": "markdown",
   "metadata": {},
   "source": [
    "There are multiple ways to create a byte in python. They are all equivalent, but the method you choose might be more readable or easier to understand.\n",
    "\n",
    "More importantly, I suggest to avoid using strings to create bytes, as it might lead to a different interpretation of the byte. We can see that in the last example.\n",
    "\n",
    "Lets see the different methods to create a byte representing the number 1:\n"
   ]
  },
  {
   "cell_type": "code",
   "execution_count": 25,
   "metadata": {},
   "outputs": [],
   "source": [
    "\n",
    "# Bytes from integer (decimal/base 10)\n",
    "byte1 = bytes([1])\n",
    "\n",
    "# Bytes from hexadecimal (base 16)\n",
    "byte2 = bytes([0x01])\n",
    "\n",
    "# Convert integer to 1-byte representation\n",
    "byte3 = (1).to_bytes(1, byteorder='big')\n",
    "\n",
    "\n",
    "# Character to byte\n",
    "byte4 = chr(1).encode('latin-1')\n",
    "\n",
    "\n",
    "# Creating a byte via bitwise operations\n",
    "byte5 = bytes([0b00000001])\n",
    "\n",
    "# Bytes from string (base 10)\n",
    "byte6 = bytes('1', 'utf-8')\n",
    "\n",
    "# An empty byte\n",
    "byte7 = bytes(1)\n"
   ]
  },
  {
   "cell_type": "code",
   "execution_count": 26,
   "metadata": {},
   "outputs": [
    {
     "data": {
      "text/plain": [
       "b'\\x01'"
      ]
     },
     "execution_count": 26,
     "metadata": {},
     "output_type": "execute_result"
    },
    {
     "data": {
      "text/plain": [
       "b'\\x01'"
      ]
     },
     "execution_count": 26,
     "metadata": {},
     "output_type": "execute_result"
    },
    {
     "data": {
      "text/plain": [
       "b'\\x01'"
      ]
     },
     "execution_count": 26,
     "metadata": {},
     "output_type": "execute_result"
    },
    {
     "data": {
      "text/plain": [
       "b'\\x01'"
      ]
     },
     "execution_count": 26,
     "metadata": {},
     "output_type": "execute_result"
    },
    {
     "data": {
      "text/plain": [
       "b'\\x01'"
      ]
     },
     "execution_count": 26,
     "metadata": {},
     "output_type": "execute_result"
    },
    {
     "data": {
      "text/plain": [
       "b'1'"
      ]
     },
     "execution_count": 26,
     "metadata": {},
     "output_type": "execute_result"
    },
    {
     "data": {
      "text/plain": [
       "b'\\x00'"
      ]
     },
     "execution_count": 26,
     "metadata": {},
     "output_type": "execute_result"
    }
   ],
   "source": [
    "# Checking values\n",
    "byte1\n",
    "byte2\n",
    "byte3\n",
    "byte4\n",
    "byte5\n",
    "byte6\n",
    "byte7\n"
   ]
  },
  {
   "cell_type": "markdown",
   "metadata": {},
   "source": [
    "We see that the output is in the format of `b'\\x01'` or `b'1'`, which is a byte object. So `b'1'` is actually the byte value 49 (0x31 in hex) because that's the ASCII code for the character '1'. This is different from the actual number 1, which would be bytes([1]) and would output as b'\\x01'.\n",
    "\n",
    "Also note the difference between `bytes([1])` and `bytes(1)`. the first one is the byte value 1, and the second one is an empty byte (without the list format, the bytes(n) returns an empty byte sequence of size n).\n",
    "\n",
    "To check the hexadecimal representation of the byte, we can use the `.hex()` method.\n"
   ]
  },
  {
   "cell_type": "code",
   "execution_count": 27,
   "metadata": {},
   "outputs": [
    {
     "data": {
      "text/plain": [
       "'01'"
      ]
     },
     "execution_count": 27,
     "metadata": {},
     "output_type": "execute_result"
    },
    {
     "data": {
      "text/plain": [
       "'01'"
      ]
     },
     "execution_count": 27,
     "metadata": {},
     "output_type": "execute_result"
    },
    {
     "data": {
      "text/plain": [
       "'01'"
      ]
     },
     "execution_count": 27,
     "metadata": {},
     "output_type": "execute_result"
    },
    {
     "data": {
      "text/plain": [
       "'01'"
      ]
     },
     "execution_count": 27,
     "metadata": {},
     "output_type": "execute_result"
    },
    {
     "data": {
      "text/plain": [
       "'01'"
      ]
     },
     "execution_count": 27,
     "metadata": {},
     "output_type": "execute_result"
    },
    {
     "data": {
      "text/plain": [
       "'31'"
      ]
     },
     "execution_count": 27,
     "metadata": {},
     "output_type": "execute_result"
    },
    {
     "data": {
      "text/plain": [
       "'00'"
      ]
     },
     "execution_count": 27,
     "metadata": {},
     "output_type": "execute_result"
    }
   ],
   "source": [
    "# Checking values as hexadecimal\n",
    "\n",
    "byte1.hex()\n",
    "byte2.hex()\n",
    "byte3.hex()\n",
    "byte4.hex()\n",
    "byte5.hex()\n",
    "byte6.hex()\n",
    "byte7.hex()\n"
   ]
  },
  {
   "cell_type": "markdown",
   "metadata": {},
   "source": [
    "And some other ways to describe a byte:"
   ]
  },
  {
   "cell_type": "code",
   "execution_count": 28,
   "metadata": {},
   "outputs": [
    {
     "name": "stdout",
     "output_type": "stream",
     "text": [
      "[49]\n",
      "31\n",
      "Decimal: 49\n",
      "Hex: 0x31\n",
      "Binary: 0b110001\n"
     ]
    }
   ],
   "source": [
    "value = b'1'\n",
    "\n",
    "# As decimal (base 10)\n",
    "print(list(value))         # Output: [49]\n",
    "\n",
    "# As hexadecimal (base 16)\n",
    "print(value.hex())        # Output: 31\n",
    "\n",
    "# Using a loop to show all forms\n",
    "for byte in value:\n",
    "    print(f\"Decimal: {byte}\")      # 49\n",
    "    print(f\"Hex: {hex(byte)}\")     # 0x31\n",
    "    print(f\"Binary: {bin(byte)}\")  # 0b110001"
   ]
  },
  {
   "cell_type": "markdown",
   "metadata": {},
   "source": [
    "Conclusion:\n",
    "- Use `bytes([1])` to get the byte value 1.\n",
    "- avoid using strings to create bytes, as it might lead to a different interpretation of the byte.\n",
    "- use the `.hex()` method to check the hexadecimal representation of the byte.\n",
    "\n"
   ]
  },
  {
   "cell_type": "markdown",
   "metadata": {},
   "source": [
    "\n",
    "Method              | Result  | Best Used For\n",
    "--------------------|---------|------------------\n",
    "bytes([1])          | b'\\x01' | Direct numeric values\n",
    "bytes([0x01])       | b'\\x01' | Hex representation\n",
    "(1).to_bytes(1,...) | b'\\x01' | Integer conversion\n",
    "chr(1).encode()     | b'\\x01' | Character conversion\n",
    "bytes([0b00000001]) | b'\\x01' | Bitwise operations\n",
    "bytes('1', 'utf-8') | b'1'    | Text (careful!)\n",
    "bytes(1)            | b'\\x00' | Empty byte sequences\n"
   ]
  }
 ],
 "metadata": {
  "kernelspec": {
   "display_name": "Bertopicdevelop",
   "language": "python",
   "name": "python3"
  },
  "language_info": {
   "codemirror_mode": {
    "name": "ipython",
    "version": 3
   },
   "file_extension": ".py",
   "mimetype": "text/x-python",
   "name": "python",
   "nbconvert_exporter": "python",
   "pygments_lexer": "ipython3",
   "version": "3.9.19"
  }
 },
 "nbformat": 4,
 "nbformat_minor": 2
}
