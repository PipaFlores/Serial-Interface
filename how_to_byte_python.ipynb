{
 "cells": [
  {
   "cell_type": "code",
   "execution_count": 3,
   "metadata": {},
   "outputs": [],
   "source": [
    "import serial\n",
    "import time\n",
    "\n",
    "# make the cells output all the outputs\n",
    "from IPython.core.interactiveshell import InteractiveShell\n",
    "InteractiveShell.ast_node_interactivity = \"all\"\n",
    "\n"
   ]
  },
  {
   "cell_type": "markdown",
   "metadata": {},
   "source": [
    "There are multiple ways to create a byte in python. They are all equivalent, but the method you choose might be more readable or easier to understand.\n",
    "\n",
    "More importantly, I suggest to avoid using strings to create bytes, as it might lead to a different interpretation of the byte. We can see that in the last example.\n",
    "\n",
    "Lets see the different methods to create a byte representing the number 1:\n"
   ]
  },
  {
   "cell_type": "code",
   "execution_count": 4,
   "metadata": {},
   "outputs": [],
   "source": [
    "\n",
    "# Bytes from integer (decimal/base 10)\n",
    "byte1 = bytes([1])\n",
    "\n",
    "# Bytes from hexadecimal (base 16)\n",
    "byte2 = bytes([0x01])\n",
    "\n",
    "# Convert integer to 1-byte representation\n",
    "byte3 = (1).to_bytes(1, byteorder='big')\n",
    "\n",
    "\n",
    "# Character to byte\n",
    "byte4 = chr(1).encode('latin-1')\n",
    "\n",
    "# Creating a byte via bitwise operations\n",
    "byte5 = bytes([0b00000001])\n",
    "\n",
    "# Bytes from string (base 10)\n",
    "byte6 = bytes('1', 'ASCII')\n",
    "\n",
    "# An empty byte\n",
    "byte7 = bytes(1)\n",
    "\n",
    "# string bytes \n",
    "byte8 = b\"1\"\n"
   ]
  },
  {
   "cell_type": "code",
   "execution_count": 5,
   "metadata": {},
   "outputs": [
    {
     "data": {
      "text/plain": [
       "b'\\x01'"
      ]
     },
     "execution_count": 5,
     "metadata": {},
     "output_type": "execute_result"
    },
    {
     "data": {
      "text/plain": [
       "b'\\x01'"
      ]
     },
     "execution_count": 5,
     "metadata": {},
     "output_type": "execute_result"
    },
    {
     "data": {
      "text/plain": [
       "b'\\x01'"
      ]
     },
     "execution_count": 5,
     "metadata": {},
     "output_type": "execute_result"
    },
    {
     "data": {
      "text/plain": [
       "b'\\x01'"
      ]
     },
     "execution_count": 5,
     "metadata": {},
     "output_type": "execute_result"
    },
    {
     "data": {
      "text/plain": [
       "b'\\x01'"
      ]
     },
     "execution_count": 5,
     "metadata": {},
     "output_type": "execute_result"
    },
    {
     "data": {
      "text/plain": [
       "b'1'"
      ]
     },
     "execution_count": 5,
     "metadata": {},
     "output_type": "execute_result"
    },
    {
     "data": {
      "text/plain": [
       "b'\\x00'"
      ]
     },
     "execution_count": 5,
     "metadata": {},
     "output_type": "execute_result"
    },
    {
     "data": {
      "text/plain": [
       "b'1'"
      ]
     },
     "execution_count": 5,
     "metadata": {},
     "output_type": "execute_result"
    }
   ],
   "source": [
    "# Checking values\n",
    "byte1\n",
    "byte2\n",
    "byte3\n",
    "byte4\n",
    "byte5\n",
    "byte6\n",
    "byte7\n",
    "byte8\n"
   ]
  },
  {
   "cell_type": "markdown",
   "metadata": {},
   "source": [
    "We see that the output is in the format of `b'\\x01'` or `b'1'`, which is a byte object. So `b'1'` is actually the byte value 49 (0x31 in hex) because that's the ASCII code for the character '1'. This is different from the actual number 1, which would be bytes([1]) and would output as b'\\x01'.\n",
    "\n",
    "Also note the difference between `bytes([1])` and `bytes(1)`. the first one is the byte value 1, and the second one is an empty byte ('\\x00'). Without the list format, the bytes(n) returns an empty byte sequence of size n.\n",
    "\n",
    "\n",
    "\n",
    "## Considerations to work with Arduino.\n",
    "\n",
    "While we can imagine the number one corresponding to the `00000001` byte, it does not follow that it will be \"understood\" by hardware/software as the number one. \n",
    "\n",
    "When we use `serial.parseInt()` in Arduino IDE code, the Arduino will decode the serial communication using the [ASCII encodings for text data](https://docs.arduino.cc/built-in-examples/communication/ASCIITable/). In that case, we will need to use the byte string, or specify the ASCII encoding (`byte = b\"1\"` or `byte = byte([1], encoding = \"ASCII\"`)\n",
    "\n",
    "\n",
    "Another way to display these bytes objects is to get the hexadecimal values, using the .hex() method\n"
   ]
  },
  {
   "cell_type": "code",
   "execution_count": 5,
   "metadata": {},
   "outputs": [
    {
     "data": {
      "text/plain": [
       "'01'"
      ]
     },
     "execution_count": 5,
     "metadata": {},
     "output_type": "execute_result"
    },
    {
     "data": {
      "text/plain": [
       "'01'"
      ]
     },
     "execution_count": 5,
     "metadata": {},
     "output_type": "execute_result"
    },
    {
     "data": {
      "text/plain": [
       "'01'"
      ]
     },
     "execution_count": 5,
     "metadata": {},
     "output_type": "execute_result"
    },
    {
     "data": {
      "text/plain": [
       "'01'"
      ]
     },
     "execution_count": 5,
     "metadata": {},
     "output_type": "execute_result"
    },
    {
     "data": {
      "text/plain": [
       "'01'"
      ]
     },
     "execution_count": 5,
     "metadata": {},
     "output_type": "execute_result"
    },
    {
     "data": {
      "text/plain": [
       "'31'"
      ]
     },
     "execution_count": 5,
     "metadata": {},
     "output_type": "execute_result"
    },
    {
     "data": {
      "text/plain": [
       "'00'"
      ]
     },
     "execution_count": 5,
     "metadata": {},
     "output_type": "execute_result"
    },
    {
     "data": {
      "text/plain": [
       "'31'"
      ]
     },
     "execution_count": 5,
     "metadata": {},
     "output_type": "execute_result"
    }
   ],
   "source": [
    "# Checking values as hexadecimal\n",
    "\n",
    "byte1.hex()\n",
    "byte2.hex()\n",
    "byte3.hex()\n",
    "byte4.hex()\n",
    "byte5.hex()\n",
    "byte6.hex()\n",
    "byte7.hex()\n",
    "byte8.hex()\n"
   ]
  },
  {
   "cell_type": "markdown",
   "metadata": {},
   "source": [
    "And some other ways to describe a byte:"
   ]
  },
  {
   "cell_type": "code",
   "execution_count": 6,
   "metadata": {},
   "outputs": [
    {
     "name": "stdout",
     "output_type": "stream",
     "text": [
      "Decimal: 49\n",
      "Hex: 0x31\n",
      "Binary: 0b110001\n"
     ]
    }
   ],
   "source": [
    "value = b'1'\n",
    "\n",
    "# Using a loop to show all forms\n",
    "for byte in value:\n",
    "    print(f\"Decimal: {byte}\")      # 49\n",
    "    print(f\"Hex: {hex(byte)}\")     # 0x31\n",
    "    print(f\"Binary: {bin(byte)}\")  # 0b110001"
   ]
  },
  {
   "cell_type": "markdown",
   "metadata": {},
   "source": [
    "Here we can see that only the b'1' (or byte([1], encoding = \"ASCII\")) is the correct representation of the number one in the ASCII table\n"
   ]
  },
  {
   "cell_type": "markdown",
   "metadata": {},
   "source": [
    "Conclusion:\n",
    "- Use `bytes([1])` to get the byte value 1 (00000001, or 0x01 in hex).\n",
    "- Use `bytes([1], encoding = \"ASCII\")` or `b\"1\"` to get the ASCII representation of the number one (and understood by the Arduino).\n",
    "- use the `.hex()` method to check the hexadecimal representation of the byte.\n",
    "\n"
   ]
  },
  {
   "cell_type": "markdown",
   "metadata": {},
   "source": [
    "\n",
    "Method              | Result  | Best Used For\n",
    "--------------------|---------|------------------\n",
    "bytes([1])          | b'\\x01' | Direct numeric values\n",
    "bytes([0x01])       | b'\\x01' | Hex representation\n",
    "(1).to_bytes(1,...) | b'\\x01' | Integer conversion\n",
    "chr(1).encode()     | b'\\x01' | Character conversion\n",
    "bytes([0b00000001]) | b'\\x01' | Bitwise operations\n",
    "bytes('1', 'ASCII') | b'1'    | Text encoding\n",
    "b\"1\"                | b'1'    | String literal (ASCII)\n",
    "bytes(1)            | b'\\x00' | Empty byte sequences\n"
   ]
  }
 ],
 "metadata": {
  "kernelspec": {
   "display_name": "midi",
   "language": "python",
   "name": "python3"
  },
  "language_info": {
   "codemirror_mode": {
    "name": "ipython",
    "version": 3
   },
   "file_extension": ".py",
   "mimetype": "text/x-python",
   "name": "python",
   "nbconvert_exporter": "python",
   "pygments_lexer": "ipython3",
   "version": "3.13.0"
  }
 },
 "nbformat": 4,
 "nbformat_minor": 2
}
